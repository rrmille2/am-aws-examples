{
 "cells": [
  {
   "cell_type": "markdown",
   "metadata": {},
   "source": [
    "## Echo360 Transcribe Project\n",
    "\n",
    "This notebook was tested in Amazon SageMaker Studio on a ml.t3.medium instance with Python 3 (Data Science) kernel.\n",
    "\n",
    "\n"
   ]
  },
  {
   "cell_type": "markdown",
   "metadata": {},
   "source": [
    "**asr-evaluation** is a python module for evaluting ASR hypotheses (i.e. word error rate and word recognition rate).\n",
    "\n",
    "You can read more here:\n",
    "https://github.com/belambert/asr-evaluation\n",
    "    "
   ]
  },
  {
   "cell_type": "code",
   "execution_count": 16,
   "metadata": {},
   "outputs": [
    {
     "name": "stdout",
     "output_type": "stream",
     "text": [
      "Requirement already satisfied: asr-evaluation in /opt/conda/lib/python3.7/site-packages (2.0.4)\n",
      "Requirement already satisfied: edit-distance in /opt/conda/lib/python3.7/site-packages (from asr-evaluation) (1.0.4)\n",
      "Requirement already satisfied: termcolor in /opt/conda/lib/python3.7/site-packages (from asr-evaluation) (1.1.0)\n"
     ]
    }
   ],
   "source": [
    "!pip install asr-evaluation"
   ]
  },
  {
   "cell_type": "markdown",
   "metadata": {},
   "source": [
    "## File Descriptions\n",
    "- 180108_GT.txt                          - The text of the mp3 file as produced via Ground Truth\n",
    "- 180108-echo360-140-wiki.txt            - The text of the mp3 file from standard Transcribe model\n",
    "- 180108-echo360-140-wiki-textbook.txt   - The text of the mp3 file from Transcribe with Custom Language Model\n"
   ]
  },
  {
   "cell_type": "code",
   "execution_count": 17,
   "metadata": {},
   "outputs": [],
   "source": [
    "import json\n",
    "import time\n",
    "import sys\n",
    "import urllib.request"
   ]
  },
  {
   "cell_type": "markdown",
   "metadata": {},
   "source": [
    "In the next cell we create some of the variables and functions we will use later\n"
   ]
  },
  {
   "cell_type": "code",
   "execution_count": 18,
   "metadata": {},
   "outputs": [],
   "source": [
    "region = 'us-east-1'\n",
    "media_source_path = 's3://am-echo360/mp3/'\n",
    "\n",
    "#job_number = '180108'\n",
    "job_number = '180326'\n",
    "\n",
    "job_version = 'm'\n",
    "\n",
    "media_format = 'mp3'\n",
    "input_file_uri = f'{media_source_path}{job_number}.{media_format}'\n",
    "\n",
    "# create a unique job name\n",
    "uid = int(time.time())\n",
    "job_name = f'job-{job_number}-{media_format}-{job_version}-{uid}'\n",
    "\n",
    "reference_filename = f'./reference/{job_number}_GT.txt'\n",
    "results_filename = f'./output/{job_name}.txt'\n"
   ]
  },
  {
   "cell_type": "markdown",
   "metadata": {},
   "source": [
    "#### Functions\n"
   ]
  },
  {
   "cell_type": "code",
   "execution_count": 19,
   "metadata": {},
   "outputs": [],
   "source": [
    "def start_transcription_job(input_file_uri, media_format, job_number, job_name):\n",
    "    bucket = 'am-echo360'\n",
    "    job_filename = f'./jobs/{job_name}.json'\n",
    "    job = {\n",
    "        \"TranscriptionJobName\": job_name, \n",
    "        \"LanguageCode\": \"en-US\", \n",
    "        \"MediaFormat\": media_format, \n",
    "        \"Media\": {\n",
    "            \"MediaFileUri\": input_file_uri\n",
    "        }\n",
    "    }\n",
    "\n",
    "    # save the json file for passing to the aws cli transcribe command\n",
    "    with open(job_filename, \"w\") as write_file:\n",
    "        json.dump(job, write_file)\n",
    "\n",
    "    # and start the transcription job\n",
    "    !aws transcribe start-transcription-job \\\n",
    "         --region $region \\\n",
    "         --cli-input-json file://$job_filename \n",
    "        \n",
    "        \n",
    "def get_transcription_results(job_name, results_fname):\n",
    "    \n",
    "    out_fname = f'./output/{job_name}.txt'\n",
    "\n",
    "    # don't run this cell until the job is finished\n",
    "    results = !aws transcribe get-transcription-job \\\n",
    "       --region $region \\\n",
    "       --transcription-job-name $job_name\n",
    "    \n",
    "    if (results[0] == ''):\n",
    "        return(results[1])\n",
    "    \n",
    "    else:\n",
    "        \n",
    "        # flatten the list of strings so we can load json string into an var\n",
    "        s_results = ''\n",
    "        for r in results:\n",
    "            s_results = s_results + r\n",
    "    \n",
    "        # load json string into a var\n",
    "        json_results = json.loads(s_results)\n",
    "        job_status = json_results['TranscriptionJob']['TranscriptionJobStatus']\n",
    "\n",
    "        if job_status == 'COMPLETED':\n",
    "\n",
    "            # get the URL of the file containing the transcription results\n",
    "            transcript = json_results['TranscriptionJob']['Transcript']['TranscriptFileUri']\n",
    "\n",
    "            # download, note the transcription file is in json format\n",
    "            with urllib.request.urlopen(transcript) as url:\n",
    "                data = json.loads(url.read().decode())\n",
    "\n",
    "            # save the text of the transcript to a file\n",
    "            transcript_data = data['results']['transcripts'][0]['transcript']\n",
    "            outfile = open(results_fname, 'w')\n",
    "            outfile.write(transcript_data)\n",
    "            outfile.close()\n",
    "            \n",
    "        return(job_status)\n",
    "    "
   ]
  },
  {
   "cell_type": "code",
   "execution_count": 20,
   "metadata": {},
   "outputs": [
    {
     "name": "stdout",
     "output_type": "stream",
     "text": [
      "{\n",
      "    \"TranscriptionJob\": {\n",
      "        \"TranscriptionJobName\": \"job-180326-mp3-m-1618014273\",\n",
      "        \"TranscriptionJobStatus\": \"IN_PROGRESS\",\n",
      "        \"LanguageCode\": \"en-US\",\n",
      "        \"MediaFormat\": \"mp3\",\n",
      "        \"Media\": {\n",
      "            \"MediaFileUri\": \"s3://am-echo360/mp3/180326.mp3\"\n",
      "        },\n",
      "        \"StartTime\": 1618014273.959,\n",
      "        \"CreationTime\": 1618014273.935\n",
      "    }\n",
      "}\n"
     ]
    }
   ],
   "source": [
    "# create the transcription job\n",
    "start_transcription_job(input_file_uri, media_format, job_number, job_name)\n"
   ]
  },
  {
   "cell_type": "code",
   "execution_count": 21,
   "metadata": {},
   "outputs": [
    {
     "name": "stdout",
     "output_type": "stream",
     "text": [
      "....................................................\n",
      "Job Name: job-180326-mp3-m-1618014273\n",
      "COMPLETED\n",
      "CPU times: user 189 ms, sys: 115 ms, total: 304 ms\n",
      "Wall time: 9min 15s\n"
     ]
    }
   ],
   "source": [
    "%%time\n",
    "\n",
    "# now wait for the transcription job to complete\n",
    "while True:\n",
    "    status = get_transcription_results(job_name, results_filename)\n",
    "    if status == 'COMPLETED':\n",
    "        break\n",
    "    elif status != 'IN_PROGRESS':\n",
    "        break\n",
    "        \n",
    "    sys.stdout.write('.')\n",
    "    time.sleep(10)\n",
    "\n",
    "# usage: \n",
    "# !wer <reference.txt> <actual.txt>\n",
    "print(f'\\nJob Name: {job_name}')\n",
    "print(status)\n"
   ]
  },
  {
   "cell_type": "code",
   "execution_count": 22,
   "metadata": {},
   "outputs": [
    {
     "name": "stdout",
     "output_type": "stream",
     "text": [
      "Sentence count: 1\n",
      "WER:    33.094% (      2164 /       6539)\n",
      "WRR:    70.408% (      4604 /       6539)\n",
      "SER:   100.000% (         1 /          1)\n",
      "CPU times: user 1.16 s, sys: 138 ms, total: 1.3 s\n",
      "Wall time: 1min 31s\n"
     ]
    }
   ],
   "source": [
    "%%time\n",
    "\n",
    "# now perform the Word Error Rate analysis\n",
    "if status == 'COMPLETED':\n",
    "    !wer $reference_filename $results_filename"
   ]
  },
  {
   "cell_type": "markdown",
   "metadata": {},
   "source": [
    "# Now repeat with a WAV file \n",
    "The .wav file is the original mp3 loaded into Audacity, then amplified for a peak of 0.0db and then saved as a 16-bit WAV file\n"
   ]
  },
  {
   "cell_type": "code",
   "execution_count": 23,
   "metadata": {},
   "outputs": [
    {
     "name": "stdout",
     "output_type": "stream",
     "text": [
      "{\n",
      "    \"TranscriptionJob\": {\n",
      "        \"TranscriptionJobName\": \"job-180326-wav-m-1618014273\",\n",
      "        \"TranscriptionJobStatus\": \"IN_PROGRESS\",\n",
      "        \"LanguageCode\": \"en-US\",\n",
      "        \"MediaFormat\": \"wav\",\n",
      "        \"Media\": {\n",
      "            \"MediaFileUri\": \"s3://am-echo360/mp3/180326.wav\"\n",
      "        },\n",
      "        \"StartTime\": 1618014921.839,\n",
      "        \"CreationTime\": 1618014921.819\n",
      "    }\n",
      "}\n"
     ]
    }
   ],
   "source": [
    "media_format = 'wav'\n",
    "input_file_uri = f'{media_source_path}{job_number}.{media_format}'\n",
    "job_name = f'job-{job_number}-{media_format}-{job_version}-{uid}'\n",
    "results_filename = f'./output/{job_name}.txt'\n",
    "\n",
    "start_transcription_job(input_file_uri, media_format, job_number, job_name)\n"
   ]
  },
  {
   "cell_type": "code",
   "execution_count": null,
   "metadata": {},
   "outputs": [
    {
     "name": "stdout",
     "output_type": "stream",
     "text": [
      ".............."
     ]
    }
   ],
   "source": [
    "%%time\n",
    "\n",
    "# now wait for the transcription job to complete\n",
    "while True:\n",
    "    status = get_transcription_results(job_name, results_filename)\n",
    "    if status == 'COMPLETED':\n",
    "        break\n",
    "    elif status != 'IN_PROGRESS':\n",
    "        break\n",
    "        \n",
    "    sys.stdout.write('.')\n",
    "    time.sleep(10)\n",
    "\n",
    "# usage: \n",
    "# !wer <reference.txt> <actual.txt>\n",
    "print(f'\\nJob Name: {job_name}')\n",
    "print(status)\n"
   ]
  },
  {
   "cell_type": "code",
   "execution_count": null,
   "metadata": {},
   "outputs": [],
   "source": [
    "%%time\n",
    "\n",
    "# now perform the Word Error Rate analysis\n",
    "if status == 'COMPLETED':\n",
    "    !wer $reference_filename $results_filename"
   ]
  },
  {
   "cell_type": "code",
   "execution_count": null,
   "metadata": {},
   "outputs": [],
   "source": []
  }
 ],
 "metadata": {
  "kernelspec": {
   "display_name": "Python 3 (Data Science)",
   "language": "python",
   "name": "python3__SAGEMAKER_INTERNAL__arn:aws:sagemaker:us-east-1:081325390199:image/datascience-1.0"
  },
  "language_info": {
   "codemirror_mode": {
    "name": "ipython",
    "version": 3
   },
   "file_extension": ".py",
   "mimetype": "text/x-python",
   "name": "python",
   "nbconvert_exporter": "python",
   "pygments_lexer": "ipython3",
   "version": "3.7.6"
  }
 },
 "nbformat": 4,
 "nbformat_minor": 4
}
